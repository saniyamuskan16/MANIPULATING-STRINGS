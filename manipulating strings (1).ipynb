{
 "cells": [
  {
   "cell_type": "markdown",
   "id": "38e36681-32d5-41c8-9453-9a825847b7a8",
   "metadata": {},
   "source": [
    "# Manipulating strings"
   ]
  },
  {
   "cell_type": "markdown",
   "id": "00bb44df-c7bf-4cdc-b31c-46518088bb58",
   "metadata": {},
   "source": [
    "### Escape characters"
   ]
  },
  {
   "cell_type": "raw",
   "id": "132949cf-9bd7-4ed3-904e-4bac21f97dec",
   "metadata": {},
   "source": [
    "An escape character is created by typing a backslash `\\` followed by the character you\n",
    "want to insert."
   ]
  },
  {
   "cell_type": "raw",
   "id": "5f50751d-559f-487a-b595-332b63dd6511",
   "metadata": {},
   "source": [
    "Escape character Prints as >>\n",
    "\n",
    "`\\'` Single quote\n",
    "`\\\"` Double quote\n",
    "`\\t` Tab\n",
    "`\\n` Newline (line break)\n",
    "`\\\\` Backslash\n",
    "`\\b` Backspace\n",
    "`\\ooo` Octal value\n",
    "`\\r` Carriage Return"
   ]
  },
  {
   "cell_type": "code",
   "execution_count": 25,
   "id": "016501c7-3674-4632-8beb-170caf399cfb",
   "metadata": {},
   "outputs": [
    {
     "name": "stdout",
     "output_type": "stream",
     "text": [
      "Hello there!\n",
      "How are you?\n",
      "I'm doing fine.\n"
     ]
    }
   ],
   "source": [
    "\n",
    "\n",
    "print(\"Hello there!\\nHow are you?\\nI\\'m doing fine.\")"
   ]
  },
  {
   "cell_type": "markdown",
   "id": "45396fc8-9299-4267-b528-6f9ea9866436",
   "metadata": {},
   "source": [
    "### Raw strings"
   ]
  },
  {
   "cell_type": "raw",
   "id": "390ca2eb-14cd-4f7d-ad06-ab7e2bc08a63",
   "metadata": {},
   "source": [
    " A raw string entirely ignores all escape characters and prints any backslash that appears in the string."
   ]
  },
  {
   "cell_type": "code",
   "execution_count": null,
   "id": "df434b0a-456c-4b93-9b06-a15a210504fe",
   "metadata": {},
   "outputs": [],
   "source": []
  },
  {
   "cell_type": "code",
   "execution_count": 26,
   "id": "cc806111-a021-4e41-a4bb-8f7760af4813",
   "metadata": {},
   "outputs": [
    {
     "name": "stdout",
     "output_type": "stream",
     "text": [
      "Hello there!\\nHow are you?\\nI\\'m doing fine.\n"
     ]
    }
   ],
   "source": [
    ">>> print(r\"Hello there!\\nHow are you?\\nI\\'m doing fine.\")"
   ]
  },
  {
   "cell_type": "code",
   "execution_count": null,
   "id": "2e612277-bdc1-4446-a6b5-b6c7b27f5d7c",
   "metadata": {},
   "outputs": [],
   "source": []
  },
  {
   "cell_type": "markdown",
   "id": "b16bfa82-7a0f-47c5-a894-9dc48ce0fe64",
   "metadata": {},
   "source": [
    "#### Raw strings are mostly used for regular expression definition."
   ]
  },
  {
   "cell_type": "markdown",
   "id": "dd0f8a9f-9a2c-4ecc-b4cf-51f946199e76",
   "metadata": {},
   "source": [
    "## Multiline Strings"
   ]
  },
  {
   "cell_type": "code",
   "execution_count": 28,
   "id": "ef6c1986-8909-4fce-94bd-bd807ca6a82a",
   "metadata": {},
   "outputs": [
    {
     "name": "stdout",
     "output_type": "stream",
     "text": [
      "Dear Alice,\n",
      "\n",
      "Eve's cat has been arrested for catnapping,\n",
      "cat burglary, and extortion.\n",
      "\n",
      "Sincerely,\n",
      "sanu\n"
     ]
    }
   ],
   "source": [
    ">>> print(\n",
    "... \"\"\"Dear Alice,\n",
    "...\n",
    "... Eve's cat has been arrested for catnapping,\n",
    "... cat burglary, and extortion.\n",
    "...\n",
    "... Sincerely,\n",
    "... sanu\"\"\"\n",
    "... )"
   ]
  },
  {
   "cell_type": "code",
   "execution_count": null,
   "id": "f0d4b469-0d36-445a-b7fe-af663e488503",
   "metadata": {},
   "outputs": [],
   "source": []
  },
  {
   "cell_type": "markdown",
   "id": "1caed1b3-f09d-43fe-911a-e84a5e4339ac",
   "metadata": {},
   "source": [
    "### Indexing and Slicing strings\n",
    "\n"
   ]
  },
  {
   "cell_type": "markdown",
   "id": "7c0b03e6-30a7-4e21-9810-5965de26b695",
   "metadata": {},
   "source": [
    "#  H e l l o  w  o r l d   !\n",
    "# 0 1 2 3 4 5 6 7 8 9 10 11"
   ]
  },
  {
   "cell_type": "markdown",
   "id": "6cb530e0-0250-41b2-b1ed-5e720137b3c9",
   "metadata": {},
   "source": [
    "#### INDEXING"
   ]
  },
  {
   "cell_type": "code",
   "execution_count": 29,
   "id": "60364bd2-5d63-439a-a0c2-1c1565c264f6",
   "metadata": {},
   "outputs": [
    {
     "data": {
      "text/plain": [
       "'H'"
      ]
     },
     "execution_count": 29,
     "metadata": {},
     "output_type": "execute_result"
    }
   ],
   "source": [
    ">>> spam = 'Hello world!'\n",
    ">>> spam[0]"
   ]
  },
  {
   "cell_type": "code",
   "execution_count": 30,
   "id": "1fc4a05a-e68f-4554-99d1-20d60e64430c",
   "metadata": {},
   "outputs": [
    {
     "data": {
      "text/plain": [
       "'o'"
      ]
     },
     "execution_count": 30,
     "metadata": {},
     "output_type": "execute_result"
    }
   ],
   "source": [
    ">>> spam[4]"
   ]
  },
  {
   "cell_type": "code",
   "execution_count": 34,
   "id": "0baa68d3-d4ae-427c-b23c-5e32264a2397",
   "metadata": {},
   "outputs": [
    {
     "data": {
      "text/plain": [
       "'!'"
      ]
     },
     "execution_count": 34,
     "metadata": {},
     "output_type": "execute_result"
    }
   ],
   "source": [
    ">>> spam[-1]"
   ]
  },
  {
   "cell_type": "markdown",
   "id": "e00acb64-960e-4aa5-bea1-7556ec06dab0",
   "metadata": {},
   "source": [
    "#### SLICING"
   ]
  },
  {
   "cell_type": "code",
   "execution_count": 35,
   "id": "cab819c4-0aaf-4253-8187-8d912034d799",
   "metadata": {},
   "outputs": [
    {
     "data": {
      "text/plain": [
       "'Hello'"
      ]
     },
     "execution_count": 35,
     "metadata": {},
     "output_type": "execute_result"
    }
   ],
   "source": [
    ">>> spam = 'Hello world!'\n",
    ">>> spam[0:5]"
   ]
  },
  {
   "cell_type": "code",
   "execution_count": 36,
   "id": "c596da30-c6b9-4e74-a487-36407752b4e1",
   "metadata": {},
   "outputs": [
    {
     "data": {
      "text/plain": [
       "'Hello'"
      ]
     },
     "execution_count": 36,
     "metadata": {},
     "output_type": "execute_result"
    }
   ],
   "source": [
    ">>> spam[:5]"
   ]
  },
  {
   "cell_type": "code",
   "execution_count": 37,
   "id": "47fbb39a-5cd5-47e6-bfd0-e9e5c5fd81eb",
   "metadata": {},
   "outputs": [
    {
     "data": {
      "text/plain": [
       "'world'"
      ]
     },
     "execution_count": 37,
     "metadata": {},
     "output_type": "execute_result"
    }
   ],
   "source": [
    ">>> spam[6:-1]"
   ]
  },
  {
   "cell_type": "code",
   "execution_count": 38,
   "id": "2064942d-3d04-409e-96a7-a1c0a147a5ec",
   "metadata": {},
   "outputs": [
    {
     "data": {
      "text/plain": [
       "'Hello world'"
      ]
     },
     "execution_count": 38,
     "metadata": {},
     "output_type": "execute_result"
    }
   ],
   "source": [
    ">>> spam[:-1]"
   ]
  },
  {
   "cell_type": "code",
   "execution_count": 39,
   "id": "0446ac41-da00-4243-891b-3d6afb7e46ee",
   "metadata": {},
   "outputs": [
    {
     "data": {
      "text/plain": [
       "'!dlrow olleH'"
      ]
     },
     "execution_count": 39,
     "metadata": {},
     "output_type": "execute_result"
    }
   ],
   "source": [
    ">>> spam[::-1]"
   ]
  },
  {
   "cell_type": "code",
   "execution_count": 40,
   "id": "a06b1a50-c6db-4320-b3ef-27dc7face730",
   "metadata": {},
   "outputs": [
    {
     "data": {
      "text/plain": [
       "'Hello'"
      ]
     },
     "execution_count": 40,
     "metadata": {},
     "output_type": "execute_result"
    }
   ],
   "source": [
    ">>> spam[0:5]"
   ]
  },
  {
   "cell_type": "code",
   "execution_count": null,
   "id": "1e4caaee-237d-4df7-b4d2-bf2e3c78e6ff",
   "metadata": {},
   "outputs": [],
   "source": []
  },
  {
   "cell_type": "markdown",
   "id": "7c3661dd-d173-40a1-a57e-f9af24a3d6c1",
   "metadata": {},
   "source": [
    "## The in and not in operators"
   ]
  },
  {
   "cell_type": "code",
   "execution_count": 41,
   "id": "8682ff9d-bd23-4102-baf5-1245d532e31d",
   "metadata": {},
   "outputs": [
    {
     "data": {
      "text/plain": [
       "True"
      ]
     },
     "execution_count": 41,
     "metadata": {},
     "output_type": "execute_result"
    }
   ],
   "source": [
    ">>> 'Hello' in 'Hello World'"
   ]
  },
  {
   "cell_type": "code",
   "execution_count": 44,
   "id": "0e13d9c2-93ac-459d-b7dd-bd089d6ecd21",
   "metadata": {},
   "outputs": [
    {
     "data": {
      "text/plain": [
       "True"
      ]
     },
     "execution_count": 44,
     "metadata": {},
     "output_type": "execute_result"
    }
   ],
   "source": [
    ">>> 'Hello' in 'Hello'"
   ]
  },
  {
   "cell_type": "code",
   "execution_count": 43,
   "id": "7cac6a9d-4a94-4fb7-be50-990a1e8f091b",
   "metadata": {},
   "outputs": [
    {
     "data": {
      "text/plain": [
       "False"
      ]
     },
     "execution_count": 43,
     "metadata": {},
     "output_type": "execute_result"
    }
   ],
   "source": [
    ">>> 'HELLO' in 'Hello World'"
   ]
  },
  {
   "cell_type": "code",
   "execution_count": 42,
   "id": "e952062a-e2d9-423b-a56e-ed6613f22fa7",
   "metadata": {},
   "outputs": [
    {
     "data": {
      "text/plain": [
       "False"
      ]
     },
     "execution_count": 42,
     "metadata": {},
     "output_type": "execute_result"
    }
   ],
   "source": [
    " 'cats' not in 'cats and dogs'"
   ]
  },
  {
   "cell_type": "code",
   "execution_count": null,
   "id": "ace74b5c-0f46-45d5-9824-b1b928316e09",
   "metadata": {},
   "outputs": [],
   "source": []
  },
  {
   "cell_type": "markdown",
   "id": "708ec051-47ee-465b-b9e9-5ef33bc28f76",
   "metadata": {},
   "source": [
    "### upper(), lower() and title()"
   ]
  },
  {
   "cell_type": "markdown",
   "id": "6201b31d-7c4b-4778-8a9a-be14e8bb8a29",
   "metadata": {},
   "source": [
    "#### transforms a str to upper, lower and title case:"
   ]
  },
  {
   "cell_type": "code",
   "execution_count": 20,
   "id": "ae480ca0-e880-4126-9081-39374cd662c2",
   "metadata": {},
   "outputs": [
    {
     "data": {
      "text/plain": [
       "'HELLO WORLD!'"
      ]
     },
     "execution_count": 20,
     "metadata": {},
     "output_type": "execute_result"
    }
   ],
   "source": [
    ">>> greet = 'Hello World!'\n",
    ">>> greet.upper()"
   ]
  },
  {
   "cell_type": "code",
   "execution_count": 21,
   "id": "022b98f0-0e5d-46b2-9a33-6503f9f051a4",
   "metadata": {},
   "outputs": [
    {
     "data": {
      "text/plain": [
       "'hello world!'"
      ]
     },
     "execution_count": 21,
     "metadata": {},
     "output_type": "execute_result"
    }
   ],
   "source": [
    ">>> greet.lower()"
   ]
  },
  {
   "cell_type": "code",
   "execution_count": 22,
   "id": "f4af0987-96e2-438f-9297-a10abf6ef333",
   "metadata": {},
   "outputs": [
    {
     "data": {
      "text/plain": [
       "'Hello World!'"
      ]
     },
     "execution_count": 22,
     "metadata": {},
     "output_type": "execute_result"
    }
   ],
   "source": [
    ">>> greet.title()"
   ]
  },
  {
   "cell_type": "markdown",
   "id": "536f032c-46d7-432d-a322-a4fc8216888b",
   "metadata": {},
   "source": [
    "### isupper() and islower() methods"
   ]
  },
  {
   "cell_type": "raw",
   "id": "ff20db60-6207-4e75-be24-099904b4b9b1",
   "metadata": {},
   "source": [
    "Returns `True` or `False` after evaluating if a string is in upper or lower case:"
   ]
  },
  {
   "cell_type": "code",
   "execution_count": null,
   "id": "7c08d122-b30b-4e15-9eed-c8ba5b535497",
   "metadata": {},
   "outputs": [],
   "source": [
    ">>> spam = 'Hello world!'"
   ]
  },
  {
   "cell_type": "code",
   "execution_count": 46,
   "id": "4de30ac6-b88a-47ae-ace2-6b2cdea3f43d",
   "metadata": {},
   "outputs": [
    {
     "data": {
      "text/plain": [
       "False"
      ]
     },
     "execution_count": 46,
     "metadata": {},
     "output_type": "execute_result"
    }
   ],
   "source": [
    ">>> spam.islower()"
   ]
  },
  {
   "cell_type": "code",
   "execution_count": 49,
   "id": "e651fdc6-fa47-4053-8ca3-a3460fa61948",
   "metadata": {},
   "outputs": [
    {
     "data": {
      "text/plain": [
       "False"
      ]
     },
     "execution_count": 49,
     "metadata": {},
     "output_type": "execute_result"
    }
   ],
   "source": [
    ">>> spam.isupper()"
   ]
  },
  {
   "cell_type": "code",
   "execution_count": 47,
   "id": "098ad1a3-6f75-4c0d-8cc9-b59533b763b7",
   "metadata": {},
   "outputs": [
    {
     "data": {
      "text/plain": [
       "True"
      ]
     },
     "execution_count": 47,
     "metadata": {},
     "output_type": "execute_result"
    }
   ],
   "source": [
    ">>> 'HELLO'.isupper()"
   ]
  },
  {
   "cell_type": "code",
   "execution_count": 48,
   "id": "5d8cf44c-0433-4203-8001-ff6ade4e5493",
   "metadata": {},
   "outputs": [
    {
     "data": {
      "text/plain": [
       "False"
      ]
     },
     "execution_count": 48,
     "metadata": {},
     "output_type": "execute_result"
    }
   ],
   "source": [
    ">>> '12345'.islower()"
   ]
  },
  {
   "cell_type": "markdown",
   "id": "f833f510-47ee-47a9-82a0-baa77a1f87de",
   "metadata": {},
   "source": [
    "### The isX string methods"
   ]
  },
  {
   "cell_type": "markdown",
   "id": "ec29ea36-6b7d-432e-a9c2-bfeb61f91f6d",
   "metadata": {},
   "source": [
    "Method Description\n",
    "\n",
    "isalpha()   returns `True` if the string consists only of letters.\n",
    "\n",
    "isalnum()   returns `True` if the string consists only of letters and numbers.\n",
    "\n",
    "isdecimal()  returns `True` if the string consists only of numbers.\n",
    "\n",
    "isspace()    returns `True` if the string consists only of spaces, tabs, and new-lines.\n",
    "\n",
    "istitle()    returns `True` if the string consists only of words that begin with an\n",
    "             uppercase letter followed by only lowercase characters."
   ]
  },
  {
   "cell_type": "markdown",
   "id": "b25d8237-5f83-477f-ac29-080644ab0440",
   "metadata": {},
   "source": [
    "### startswith() and endswith()"
   ]
  },
  {
   "cell_type": "code",
   "execution_count": 10,
   "id": "1edfefb1-7954-4f49-bd5c-919c73e02a6a",
   "metadata": {},
   "outputs": [
    {
     "data": {
      "text/plain": [
       "True"
      ]
     },
     "execution_count": 10,
     "metadata": {},
     "output_type": "execute_result"
    }
   ],
   "source": [
    ">>> 'Hello world!'.startswith('Hello')"
   ]
  },
  {
   "cell_type": "code",
   "execution_count": 9,
   "id": "725fa38d-79e1-4666-a7ff-646f93c0405f",
   "metadata": {},
   "outputs": [
    {
     "data": {
      "text/plain": [
       "False"
      ]
     },
     "execution_count": 9,
     "metadata": {},
     "output_type": "execute_result"
    }
   ],
   "source": [
    ">>> 'abc123'.endswith('12')"
   ]
  },
  {
   "cell_type": "code",
   "execution_count": 11,
   "id": "2c57f104-cd0c-4b89-8cf9-64df25e61134",
   "metadata": {},
   "outputs": [
    {
     "data": {
      "text/plain": [
       "True"
      ]
     },
     "execution_count": 11,
     "metadata": {},
     "output_type": "execute_result"
    }
   ],
   "source": [
    ">>> 'Hello world!'.endswith('world!')"
   ]
  },
  {
   "cell_type": "code",
   "execution_count": 50,
   "id": "212637f5-38cc-42cc-97dc-1ce3a9d14c6f",
   "metadata": {},
   "outputs": [
    {
     "data": {
      "text/plain": [
       "True"
      ]
     },
     "execution_count": 50,
     "metadata": {},
     "output_type": "execute_result"
    }
   ],
   "source": [
    ">>> 'Hello world!'.startswith('Hello world!')"
   ]
  },
  {
   "cell_type": "markdown",
   "id": "18c08137-419b-4021-a90c-3eb028c6eedf",
   "metadata": {},
   "source": [
    "## Join() and split()"
   ]
  },
  {
   "cell_type": "markdown",
   "id": "3fecd1c8-bbc0-403d-af3b-4d6a69e12baa",
   "metadata": {},
   "source": [
    "#### Join()"
   ]
  },
  {
   "cell_type": "markdown",
   "id": "73450ca9-fb26-4ffa-a670-b589bc15ce32",
   "metadata": {},
   "source": [
    "The `join()` method takes all the items in an iterable, like a\n",
    "#### List, dictionary, tuple or set\n",
    "and joins them into a string. You can also specify a separator."
   ]
  },
  {
   "cell_type": "code",
   "execution_count": 53,
   "id": "f7cee65b-a22f-41ff-933d-0ded0a6b3f78",
   "metadata": {},
   "outputs": [
    {
     "data": {
      "text/plain": [
       "'MynameisSanya'"
      ]
     },
     "execution_count": 53,
     "metadata": {},
     "output_type": "execute_result"
    }
   ],
   "source": [
    ">>> ''.join(['My', 'name', 'is', 'Sara'])\n",
    "'MynameisSanya'"
   ]
  },
  {
   "cell_type": "code",
   "execution_count": 54,
   "id": "d6b41cce-14f4-4335-91cc-f0f7cc1676d9",
   "metadata": {},
   "outputs": [
    {
     "data": {
      "text/plain": [
       "'rit, sar'"
      ]
     },
     "execution_count": 54,
     "metadata": {},
     "output_type": "execute_result"
    }
   ],
   "source": [
    ">>> ', '.join(['rit', 'sar'])"
   ]
  },
  {
   "cell_type": "code",
   "execution_count": 58,
   "id": "66813c0b-d07a-4172-8014-269bc6138cfa",
   "metadata": {},
   "outputs": [
    {
     "data": {
      "text/plain": [
       "'My  uns name uns is uns Sanya'"
      ]
     },
     "execution_count": 58,
     "metadata": {},
     "output_type": "execute_result"
    }
   ],
   "source": [
    ">>> ' uns '.join(['My ', 'name', 'is', 'Sanya'])"
   ]
  },
  {
   "cell_type": "markdown",
   "id": "4693d4f5-6e44-4136-98df-a9dfce2d07d6",
   "metadata": {},
   "source": [
    "### split()"
   ]
  },
  {
   "cell_type": "markdown",
   "id": "2992ec88-f2c5-47aa-a4d2-055e89f2d751",
   "metadata": {},
   "source": [
    "The `split()` method splits a `string` into a `list`. By default, it will use whitespace to separate the items, but you can also set another character of choice:"
   ]
  },
  {
   "cell_type": "code",
   "execution_count": 59,
   "id": "0cff7395-f30e-498a-bdb9-8d162b61c443",
   "metadata": {},
   "outputs": [
    {
     "data": {
      "text/plain": [
       "['My', 'name', 'is', 'Sanya']"
      ]
     },
     "execution_count": 59,
     "metadata": {},
     "output_type": "execute_result"
    }
   ],
   "source": [
    ">>> 'My name is Sanya'.split()"
   ]
  },
  {
   "cell_type": "code",
   "execution_count": 63,
   "id": "4b5b0c8b-19f2-4c9e-84d4-92c352f178e4",
   "metadata": {},
   "outputs": [
    {
     "data": {
      "text/plain": [
       "['My name i', ' Sanya']"
      ]
     },
     "execution_count": 63,
     "metadata": {},
     "output_type": "execute_result"
    }
   ],
   "source": [
    "'My name is Sanya'.split('s')"
   ]
  },
  {
   "cell_type": "code",
   "execution_count": 64,
   "id": "6814b1ba-daf1-44dc-b7d1-5c8117103f8b",
   "metadata": {},
   "outputs": [
    {
     "data": {
      "text/plain": [
       "['', 'My', 'name', 'is', 'Sanya']"
      ]
     },
     "execution_count": 64,
     "metadata": {},
     "output_type": "execute_result"
    }
   ],
   "source": [
    ">>> ' My name is Sanya'.split(' ')\n",
    "# ['', 'My', '', 'name', 'is', '', 'Simon']"
   ]
  },
  {
   "cell_type": "markdown",
   "id": "c72cedc7-be80-4779-8a66-c630a256d9d0",
   "metadata": {},
   "source": [
    "## Justifying text with rjust(), ljust() and center()"
   ]
  },
  {
   "cell_type": "code",
   "execution_count": 65,
   "id": "609b3a62-e0a8-47e7-b175-d7c1f636b823",
   "metadata": {},
   "outputs": [
    {
     "data": {
      "text/plain": [
       "'     Hello'"
      ]
     },
     "execution_count": 65,
     "metadata": {},
     "output_type": "execute_result"
    }
   ],
   "source": [
    ">>> 'Hello'.rjust(10)"
   ]
  },
  {
   "cell_type": "code",
   "execution_count": 66,
   "id": "904d7655-5fe9-4770-9b53-3c77bf15d04c",
   "metadata": {},
   "outputs": [
    {
     "data": {
      "text/plain": [
       "'     Hello'"
      ]
     },
     "execution_count": 66,
     "metadata": {},
     "output_type": "execute_result"
    }
   ],
   "source": [
    ">>> 'Hello'.rjust(10)"
   ]
  },
  {
   "cell_type": "code",
   "execution_count": 67,
   "id": "bd7eb413-235f-4053-94ac-0dfec1bc15ed",
   "metadata": {},
   "outputs": [
    {
     "data": {
      "text/plain": [
       "'         Hello World'"
      ]
     },
     "execution_count": 67,
     "metadata": {},
     "output_type": "execute_result"
    }
   ],
   "source": [
    ">>> 'Hello World'.rjust(20)"
   ]
  },
  {
   "cell_type": "code",
   "execution_count": 68,
   "id": "71754736-2b73-42db-97fa-6df850f0a3c9",
   "metadata": {},
   "outputs": [
    {
     "data": {
      "text/plain": [
       "'Hello     '"
      ]
     },
     "execution_count": 68,
     "metadata": {},
     "output_type": "execute_result"
    }
   ],
   "source": [
    ">>> 'Hello'.ljust(10)"
   ]
  },
  {
   "cell_type": "code",
   "execution_count": 69,
   "id": "9985d7b3-b13f-4716-9f1b-85c57adc8299",
   "metadata": {},
   "outputs": [
    {
     "data": {
      "text/plain": [
       "'       Hello        '"
      ]
     },
     "execution_count": 69,
     "metadata": {},
     "output_type": "execute_result"
    }
   ],
   "source": [
    ">>> 'Hello'.center(20)"
   ]
  },
  {
   "cell_type": "code",
   "execution_count": null,
   "id": "5a5a9b28-1e02-4b78-885f-89f4304b339d",
   "metadata": {},
   "outputs": [],
   "source": []
  },
  {
   "cell_type": "markdown",
   "id": "1f0a2551-eba1-470f-a961-caa3e6e0e943",
   "metadata": {},
   "source": [
    "An optional second argument to `rjust()` and `ljust()` will specify a fill character apart\n",
    "from a space character:"
   ]
  },
  {
   "cell_type": "code",
   "execution_count": 73,
   "id": "055c1967-4a58-49ef-a780-e7b4fd2d35d8",
   "metadata": {},
   "outputs": [
    {
     "data": {
      "text/plain": [
       "'***************Hello'"
      ]
     },
     "execution_count": 73,
     "metadata": {},
     "output_type": "execute_result"
    }
   ],
   "source": [
    ">>> 'Hello'.rjust(20, '*')"
   ]
  },
  {
   "cell_type": "code",
   "execution_count": 71,
   "id": "e7dae0da-9684-4f3c-a31d-98df20268783",
   "metadata": {},
   "outputs": [
    {
     "data": {
      "text/plain": [
       "'=======Hello========'"
      ]
     },
     "execution_count": 71,
     "metadata": {},
     "output_type": "execute_result"
    }
   ],
   "source": [
    ">>> 'Hello'.center(20, '=')"
   ]
  },
  {
   "cell_type": "code",
   "execution_count": 72,
   "id": "c0e27bc6-0821-45fd-a88b-2c785f363b26",
   "metadata": {},
   "outputs": [
    {
     "data": {
      "text/plain": [
       "'Hello---------------'"
      ]
     },
     "execution_count": 72,
     "metadata": {},
     "output_type": "execute_result"
    }
   ],
   "source": [
    ">>> 'Hello'.ljust(20, '-')"
   ]
  },
  {
   "cell_type": "markdown",
   "id": "70a39ba8-9be4-40f7-ad4d-a9286a4dc513",
   "metadata": {},
   "source": [
    "## Removing whitespace with strip(), rstrip(), and lstrip()"
   ]
  },
  {
   "cell_type": "code",
   "execution_count": 74,
   "id": "802d9574-8d1c-42b5-9328-ec4ceab71cfc",
   "metadata": {},
   "outputs": [
    {
     "data": {
      "text/plain": [
       "'Hello World'"
      ]
     },
     "execution_count": 74,
     "metadata": {},
     "output_type": "execute_result"
    }
   ],
   "source": [
    ">>> spam = ' Hello World '\n",
    ">>> spam.strip()"
   ]
  },
  {
   "cell_type": "code",
   "execution_count": 75,
   "id": "69202c35-c33b-432b-998d-96cf5be1f7eb",
   "metadata": {},
   "outputs": [
    {
     "data": {
      "text/plain": [
       "'Hello World '"
      ]
     },
     "execution_count": 75,
     "metadata": {},
     "output_type": "execute_result"
    }
   ],
   "source": [
    ">>> spam.lstrip()"
   ]
  },
  {
   "cell_type": "code",
   "execution_count": 76,
   "id": "e0b95bf9-1763-44b2-83d6-e47b602b5fd4",
   "metadata": {},
   "outputs": [
    {
     "data": {
      "text/plain": [
       "' Hello World'"
      ]
     },
     "execution_count": 76,
     "metadata": {},
     "output_type": "execute_result"
    }
   ],
   "source": [
    ">>> spam.rstrip()"
   ]
  },
  {
   "cell_type": "code",
   "execution_count": 77,
   "id": "2bb5249f-8b3b-4df1-8102-529439338a53",
   "metadata": {},
   "outputs": [
    {
     "data": {
      "text/plain": [
       "'BaconSpamEggs'"
      ]
     },
     "execution_count": 77,
     "metadata": {},
     "output_type": "execute_result"
    }
   ],
   "source": [
    ">>> spam = 'SpamSpamBaconSpamEggsSpamSpam'\n",
    ">>> spam.strip('ampS')"
   ]
  },
  {
   "cell_type": "markdown",
   "id": "8aed1f77-d2ce-4542-a9fc-3282d4300ae9",
   "metadata": {},
   "source": [
    "## The Count Method"
   ]
  },
  {
   "cell_type": "markdown",
   "id": "d0d07579-0cb9-47b2-92f0-ed60d79b1a94",
   "metadata": {},
   "source": [
    "Counts the number of occurrences of a given character or substring in the string it is\n",
    "applied to. Can be optionally provided start and end index."
   ]
  },
  {
   "cell_type": "code",
   "execution_count": 78,
   "id": "f2e835d5-9794-43ba-bf2e-03818b35e874",
   "metadata": {},
   "outputs": [
    {
     "data": {
      "text/plain": [
       "3"
      ]
     },
     "execution_count": 78,
     "metadata": {},
     "output_type": "execute_result"
    }
   ],
   "source": [
    ">>> sentence = 'one sheep two sheep three sheep four'\n",
    ">>> sentence.count('sheep')"
   ]
  },
  {
   "cell_type": "code",
   "execution_count": 79,
   "id": "1359c63b-904b-4777-b07d-97a2aef4f9e5",
   "metadata": {},
   "outputs": [
    {
     "data": {
      "text/plain": [
       "9"
      ]
     },
     "execution_count": 79,
     "metadata": {},
     "output_type": "execute_result"
    }
   ],
   "source": [
    ">>> sentence.count('e')"
   ]
  },
  {
   "cell_type": "code",
   "execution_count": 80,
   "id": "13731c4d-6d5f-4901-9175-96728e75a2ed",
   "metadata": {},
   "outputs": [
    {
     "data": {
      "text/plain": [
       "8"
      ]
     },
     "execution_count": 80,
     "metadata": {},
     "output_type": "execute_result"
    }
   ],
   "source": [
    ">>> sentence.count('e', 6)"
   ]
  },
  {
   "cell_type": "code",
   "execution_count": 81,
   "id": "efd8a00f-3963-4a18-a5ce-1ebd2c8089f2",
   "metadata": {},
   "outputs": [
    {
     "data": {
      "text/plain": [
       "7"
      ]
     },
     "execution_count": 81,
     "metadata": {},
     "output_type": "execute_result"
    }
   ],
   "source": [
    ">>> sentence.count('e', 7)"
   ]
  },
  {
   "cell_type": "markdown",
   "id": "6d2a3eee-475e-4ab3-9d3e-a5b7f5eb6f77",
   "metadata": {},
   "source": [
    "## Replace Method\n"
   ]
  },
  {
   "cell_type": "markdown",
   "id": "39c81511-92f4-4402-87f9-60ca702884fa",
   "metadata": {},
   "source": [
    "Replaces all occurences of a given substring with another substring. Can be optionally\n",
    "provided a third argument to limit the number of replacements. Returns a new string."
   ]
  },
  {
   "cell_type": "code",
   "execution_count": 82,
   "id": "b09484e8-96d9-4399-a3d3-325969303227",
   "metadata": {},
   "outputs": [
    {
     "data": {
      "text/plain": [
       "'Hello, planet!'"
      ]
     },
     "execution_count": 82,
     "metadata": {},
     "output_type": "execute_result"
    }
   ],
   "source": [
    ">>> text = \"Hello, world!\"\n",
    ">>> text.replace(\"world\", \"planet\")"
   ]
  },
  {
   "cell_type": "code",
   "execution_count": 83,
   "id": "10ddd580-3bb7-4702-9dbf-3df3ba840d9e",
   "metadata": {},
   "outputs": [
    {
     "data": {
      "text/plain": [
       "'orange, banana, cherry, apple'"
      ]
     },
     "execution_count": 83,
     "metadata": {},
     "output_type": "execute_result"
    }
   ],
   "source": [
    ">>> fruits = \"apple, banana, cherry, apple\"\n",
    ">>> fruits.replace(\"apple\", \"orange\", 1)"
   ]
  },
  {
   "cell_type": "code",
   "execution_count": 84,
   "id": "3fd7a160-9fe6-4cde-ada8-613c0c0d687a",
   "metadata": {},
   "outputs": [
    {
     "data": {
      "text/plain": [
       "'I like oranges, Apples are my favorite fruit'"
      ]
     },
     "execution_count": 84,
     "metadata": {},
     "output_type": "execute_result"
    }
   ],
   "source": [
    ">>> sentence = \"I like apples, Apples are my favorite fruit\"\n",
    ">>> sentence.replace(\"apples\", \"oranges\")"
   ]
  },
  {
   "cell_type": "markdown",
   "id": "13648807-b21b-48aa-9b3f-ed08f8515417",
   "metadata": {},
   "source": []
  },
  {
   "cell_type": "code",
   "execution_count": null,
   "id": "ff80fec2-8fb1-4de4-99ae-d221371f01ca",
   "metadata": {},
   "outputs": [],
   "source": []
  },
  {
   "cell_type": "code",
   "execution_count": null,
   "id": "af64b69b-31e3-468f-bfb3-5511d9df4a6c",
   "metadata": {},
   "outputs": [],
   "source": []
  }
 ],
 "metadata": {
  "kernelspec": {
   "display_name": "Python 3 (ipykernel)",
   "language": "python",
   "name": "python3"
  },
  "language_info": {
   "codemirror_mode": {
    "name": "ipython",
    "version": 3
   },
   "file_extension": ".py",
   "mimetype": "text/x-python",
   "name": "python",
   "nbconvert_exporter": "python",
   "pygments_lexer": "ipython3",
   "version": "3.12.7"
  }
 },
 "nbformat": 4,
 "nbformat_minor": 5
}
